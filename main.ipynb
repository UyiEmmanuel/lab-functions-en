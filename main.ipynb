{
 "cells": [
  {
   "cell_type": "code",
   "execution_count": 33,
   "id": "5d336f30",
   "metadata": {},
   "outputs": [
    {
     "name": "stdout",
     "output_type": "stream",
     "text": [
      "All test cases passed.\n"
     ]
    }
   ],
   "source": [
    "#Write a function that returns the greater of two numbers\n",
    "def greater(a, b):\n",
    "    \"\"\"Return the greater of two numbers.\"\"\"\n",
    "    if a > b:\n",
    "        return a\n",
    "    else:\n",
    "        return b\n",
    "def test_greater(greater):\n",
    "    \"\"\"Test the greater function with various cases.\"\"\"\n",
    "    assert greater(3, 5)== 5\n",
    "print(\"All test cases passed.\")\n",
    " "
   ]
  },
  {
   "cell_type": "code",
   "execution_count": 13,
   "id": "b2e92b32",
   "metadata": {},
   "outputs": [
    {
     "name": "stdout",
     "output_type": "stream",
     "text": [
      "All test cases passed.\n"
     ]
    }
   ],
   "source": [
    "#Now write a function that returns the largest element on a list\n",
    "def largest_element(lst):\n",
    "    \"\"\"Return the largest element in the list.\"\"\"\n",
    "    if not lst:\n",
    "        return None  \n",
    "# Handle the case when the list is empty\n",
    "    largest = lst[0]\n",
    "    for item in lst:\n",
    "        if item > largest:\n",
    "            largest = item\n",
    "    return largest\n",
    "def test_largest_element(largest_element):\n",
    "    \"\"\"Test the largest_element function with various cases.\"\"\"\n",
    "    assert largest_element([3, 5, 7, 2, 8]) == 8, \"Test case 1 failed\"\n",
    "    assert largest_element([10, 2, 10, 2]) == 10, \"Test case 2 failed\"\n",
    "    assert largest_element([-1, -5, -3, -4]) == -1, \"Test case 3 failed\"\n",
    "    assert largest_element([7, 7, 7, 7]) == 7, \"Test case 4 failed\"\n",
    "    assert largest_element([0, 1, -1, 1]) == 1, \"Test case 5 failed\"\n",
    "    assert largest_element([]) == None, \"Test case 6 failed\"  # Empty list case\n",
    "    print(\"All test cases passed.\")\n",
    "\n",
    " # Run the test function\n",
    "test_largest_element(largest_element)"
   ]
  },
  {
   "cell_type": "code",
   "execution_count": 21,
   "id": "90cf5b1c",
   "metadata": {},
   "outputs": [
    {
     "name": "stdout",
     "output_type": "stream",
     "text": [
      "All test cases passed for sum_all.\n"
     ]
    }
   ],
   "source": [
    "# Sum All Elements in a List\n",
    "def sum_all(lst):\n",
    "    \"\"\"Return the sum of all elements in the list.\"\"\"\n",
    "    total = 0\n",
    "    for num in lst:\n",
    "        total += num\n",
    "    return total\n",
    "\n",
    "def test_sum(sum_all):\n",
    "    \"\"\"Test the sum_all function with various cases.\"\"\"\n",
    "    assert sum_all([1, 2, 3, 4, 5]) == 15, \"Test case 1 failed\"\n",
    "    assert sum_all([-1, -2, -3, -4, -5]) == -15, \"Test case 2 failed\"\n",
    "    assert sum_all([0, 0, 0, 0, 0]) == 0, \"Test case 3 failed\"\n",
    "    assert sum_all([100]) == 100, \"Test case 4 failed\"\n",
    "    print(\"All test cases passed for sum_all.\")\n",
    " \n",
    "\n",
    "# Run the test function\n",
    "test_sum(sum_all)\n"
   ]
  },
  {
   "cell_type": "code",
   "execution_count": 23,
   "id": "187ce347",
   "metadata": {},
   "outputs": [
    {
     "name": "stdout",
     "output_type": "stream",
     "text": [
      "All test cases passed for mult_all.\n"
     ]
    }
   ],
   "source": [
    "#Multiply All Elements in a List\n",
    "def mult_all(lst):\n",
    "    \"\"\"Return the product of all elements in the list.\"\"\"\n",
    "    if not lst:\n",
    "        return 1  # Handle the case when the list is empty\n",
    "    product = 1\n",
    "    for num in lst:\n",
    "        product *= num\n",
    "    return product\n",
    "\n",
    "def test_mult(mult_all):\n",
    "    \"\"\"Test the mult_all function with various cases.\"\"\"\n",
    "    assert mult_all([1, 2, 3, 4, 5]) == 120, \"Test case 1 failed\"\n",
    "    assert mult_all([-1, 2, -3, 4, -5]) == -120, \"Test case 2 failed\"\n",
    "    assert mult_all([1, 0, 1, 0, 1]) == 0, \"Test case 3 failed\"\n",
    "    assert mult_all([100]) == 100, \"Test case 4 failed\"\n",
    "    print(\"All test cases passed for mult_all.\")\n",
    "\n",
    "# Run the test function\n",
    "test_mult(mult_all)"
   ]
  },
  {
   "cell_type": "code",
   "execution_count": 25,
   "id": "e0052e99",
   "metadata": {},
   "outputs": [
    {
     "name": "stdout",
     "output_type": "stream",
     "text": [
      "All test cases passed for oper_all.\n"
     ]
    }
   ],
   "source": [
    "#Perform Operation on List Elements Based on Operator\n",
    "\n",
    "def sum_all(lst):\n",
    "    \"\"\"Return the sum of all elements in the list.\"\"\"\n",
    "    total = 0\n",
    "    for num in lst:\n",
    "        total += num\n",
    "    return total\n",
    "\n",
    "def mult_all(lst):\n",
    "    \"\"\"Return the product of all elements in the list.\"\"\"\n",
    "    if not lst:\n",
    "        return 1  # Handle the case when the list is empty\n",
    "    product = 1\n",
    "    for num in lst:\n",
    "        product *= num\n",
    "    return product\n",
    "\n",
    "def oper_all(arr, oper=\"*\"):\n",
    "    \"\"\"Perform operation '+' or '*' on all elements in the list.\"\"\"\n",
    "    if oper == \"+\":\n",
    "        return sum_all(arr)\n",
    "    elif oper == \"*\":\n",
    "        return mult_all(arr)\n",
    "    else:\n",
    "        raise ValueError(\"Invalid operation. Use '+' or '*'.\")\n",
    "\n",
    "def test_operations(oper_all):\n",
    "    \"\"\"Test the oper_all function with various cases.\"\"\"\n",
    "    assert oper_all([1, 2, 3, 4, 5], \"+\") == 15, \"Test case 1 failed\"\n",
    "    assert oper_all([1, 2, 3, 4, 5], \"*\") == 120, \"Test case 2 failed\"\n",
    "    assert oper_all([-1, -2, -3, -4, -5], \"+\") == -15, \"Test case 3 failed\"\n",
    "    \n",
    "    try:\n",
    "        oper_all([1, 2, 3, 4, 5], \"-\")\n",
    "    except ValueError as e:\n",
    "        assert str(e) == \"Invalid operation. Use '+' or '*'.\", \"Test case 4 failed\"\n",
    "    else:\n",
    "        assert False, \"Test case 4 failed: ValueError not raised\"\n",
    "    \n",
    "    print(\"All test cases passed for oper_all.\")\n",
    "\n",
    "# Run the test function\n",
    "test_operations(oper_all)\n"
   ]
  },
  {
   "cell_type": "code",
   "execution_count": 26,
   "id": "2e16c2aa",
   "metadata": {},
   "outputs": [
    {
     "name": "stdout",
     "output_type": "stream",
     "text": [
      "All test cases passed for factorial.\n"
     ]
    }
   ],
   "source": [
    "#Factorial of a Number\n",
    "def factorial(n):\n",
    "    \"\"\"Return the factorial of a number.\"\"\"\n",
    "    if n == 0 or n == 1:\n",
    "        return 1\n",
    "    result = 1\n",
    "    for i in range(2, n + 1):\n",
    "        result *= i\n",
    "    return result\n",
    "\n",
    "def test_factorial(factorial):\n",
    "    \"\"\"Test the factorial function with various cases.\"\"\"\n",
    "    assert factorial(5) == 120, \"Test case 1 failed\"\n",
    "    assert factorial(0) == 1, \"Test case 2 failed\"\n",
    "    assert factorial(1) == 1, \"Test case 3 failed\"\n",
    "    assert factorial(6) == 720, \"Test case 4 failed\"\n",
    "    print(\"All test cases passed for factorial.\")\n",
    "\n",
    "# Run the test function\n",
    "test_factorial(factorial)\n"
   ]
  },
  {
   "cell_type": "code",
   "execution_count": 27,
   "id": "836c8e15",
   "metadata": {},
   "outputs": [
    {
     "name": "stdout",
     "output_type": "stream",
     "text": [
      "All test cases passed for unique.\n"
     ]
    }
   ],
   "source": [
    "#Unique Values in a List\n",
    "def unique(lst_un):\n",
    "    \"\"\"Return a list of unique values.\"\"\"\n",
    "    unique_list = []\n",
    "    for item in lst_un:\n",
    "        if item not in unique_list:\n",
    "            unique_list.append(item)\n",
    "    return unique_list\n",
    "\n",
    "def test_unique(unique):\n",
    "    \"\"\"Test the unique function with various cases.\"\"\"\n",
    "    assert unique([1, 2, 2, 3, 4, 4, 5]) == [1, 2, 3, 4, 5], \"Test case 1 failed\"\n",
    "    assert unique([5, 5, 5, 5, 5]) == [5], \"Test case 2 failed\"\n",
    "    assert unique([]) == [], \"Test case 3 failed\"\n",
    "    assert unique([1, 2, 3, 1, 2, 3, 4, 5]) == [1, 2, 3, 4, 5], \"Test case 4 failed\"\n",
    "    print(\"All test cases passed for unique.\")\n",
    "\n",
    "# Run the test function\n",
    "test_unique(unique)\n"
   ]
  },
  {
   "cell_type": "code",
   "execution_count": 28,
   "id": "50023f53",
   "metadata": {},
   "outputs": [
    {
     "name": "stdout",
     "output_type": "stream",
     "text": [
      "All test cases passed for mode_counter.\n"
     ]
    }
   ],
   "source": [
    "#Mode of a List\n",
    "def mode_counter(arr):\n",
    "    \"\"\"Return the mode of the list.\"\"\"\n",
    "    frequency = {}\n",
    "    for item in arr:\n",
    "        if item in frequency:\n",
    "            frequency[item] += 1\n",
    "        else:\n",
    "            frequency[item] = 1\n",
    "    mode = max(frequency, key=frequency.get)\n",
    "    return mode\n",
    "\n",
    "def test_mode(mode_counter):\n",
    "    \"\"\"Test the mode_counter function with various cases.\"\"\"\n",
    "    assert mode_counter([1, 2, 2, 3, 3, 3, 4]) == 3, \"Test case 1 failed\"\n",
    "    assert mode_counter([5, 5, 5, 2, 2]) == 5, \"Test case 2 failed\"\n",
    "    assert mode_counter([1, 1, 2, 2, 3, 3]) in [1, 2, 3], \"Test case 3 failed\"  # Multiple modes\n",
    "    assert mode_counter([0, 0, 0, 1, 1]) == 0, \"Test case 4 failed\"\n",
    "    print(\"All test cases passed for mode_counter.\")\n",
    "\n",
    "# Run the test function\n",
    "test_mode(mode_counter)\n"
   ]
  },
  {
   "cell_type": "code",
   "execution_count": 29,
   "id": "833cc2d9",
   "metadata": {},
   "outputs": [
    {
     "name": "stdout",
     "output_type": "stream",
     "text": [
      "All test cases passed for st_dev.\n"
     ]
    }
   ],
   "source": [
    "#Standard Deviation of a List\n",
    "def st_dev(list_sd):\n",
    "    \"\"\"Return the standard deviation of the list.\"\"\"\n",
    "    n = len(list_sd)\n",
    "    mean = sum(list_sd) / n\n",
    "    variance = sum((x - mean) ** 2 for x in list_sd) / n\n",
    "    stddev = variance ** 0.5\n",
    "    return stddev\n",
    "\n",
    "def test_stdev(st_dev):\n",
    "    \"\"\"Test the st_dev function with various cases.\"\"\"\n",
    "    assert abs(st_dev([1, 2, 3, 4, 5]) - 1.414213) < 0.0001, \"Test case 1 failed\"\n",
    "    assert abs(st_dev([10, 12, 23, 23, 16, 23, 21, 16]) - 4.898979) < 0.0001, \"Test case 2 failed\"\n",
    "    assert st_dev([5, 5, 5, 5, 5]) == 0, \"Test case 3 failed\"\n",
    "    assert abs(st_dev([2, 4, 4, 4, 5, 5, 7, 9]) - 2.0) < 0.0001, \"Test case 4 failed\"\n",
    "    print(\"All test cases passed for st_dev.\")\n",
    "\n",
    "# Run the test function\n",
    "test_stdev(st_dev)\n"
   ]
  },
  {
   "cell_type": "code",
   "execution_count": 30,
   "id": "224c79e8",
   "metadata": {},
   "outputs": [
    {
     "name": "stdout",
     "output_type": "stream",
     "text": [
      "All test cases passed for pangram.\n"
     ]
    }
   ],
   "source": [
    "#Check if a String is a Pangram\n",
    "def pangram(string):\n",
    "    \"\"\"Check if the string is a pangram.\"\"\"\n",
    "    alphabet = set('abcdefghijklmnopqrstuvwxyz')\n",
    "    string_set = set(char.lower() for char in string if char.isalpha())\n",
    "    return alphabet <= string_set\n",
    "\n",
    "def test_pangram(pangram):\n",
    "    \"\"\"Test the pangram function with various cases.\"\"\"\n",
    "    assert pangram(\"The quick brown fox jumps over the lazy dog\") == True, \"Test case 1 failed\"\n",
    "    assert pangram(\"The quick brown fox jumps over the dog\") == False, \"Test case 2 failed\"\n",
    "    assert pangram(\"Pack my box with five dozen liquor jugs.\") == True, \"Test case 3 failed\"\n",
    "    assert pangram(\"Hello world!\") == False, \"Test case 4 failed\"\n",
    "    print(\"All test cases passed for pangram.\")\n",
    "\n",
    "# Run the test function\n",
    "test_pangram(pangram)\n"
   ]
  },
  {
   "cell_type": "code",
   "execution_count": 31,
   "id": "3e7ee566",
   "metadata": {},
   "outputs": [
    {
     "name": "stdout",
     "output_type": "stream",
     "text": [
      "All test cases passed for sort_alpha.\n"
     ]
    }
   ],
   "source": [
    "#Sort Comma Separated Words Alphabetically\n",
    "def sort_alpha(string):\n",
    "    \"\"\"Return a string of comma separated words sorted alphabetically.\"\"\"\n",
    "    words = []\n",
    "    start = 0\n",
    "    for i, char in enumerate(string):\n",
    "        if char == ',':\n",
    "            words.append(string[start:i].strip())\n",
    "            start = i + 1\n",
    "    words.append(string[start:].strip())  # Add the last word\n",
    "    sorted_words = sorted(words)\n",
    "    return ','.join(sorted_words)\n",
    "\n",
    "def test_alpha(sort_alpha):\n",
    "    \"\"\"Test the sort_alpha function with various cases.\"\"\"\n",
    "    assert sort_alpha(\"banana,apple,cherry\") == \"apple,banana,cherry\", \"Test case 1 failed\"\n",
    "    assert sort_alpha(\"dog, cat, mouse\") == \"cat,dog,mouse\", \"Test case 2 failed\"\n",
    "    assert sort_alpha(\"zebra,antelope,giraffe,elephant\") == \"antelope,elephant,giraffe,zebra\", \"Test case 3 failed\"\n",
    "    assert sort_alpha(\"grape,orange,lemon\") == \"grape,lemon,orange\", \"Test case 4 failed\"\n",
    "    print(\"All test cases passed for sort_alpha.\")\n",
    "\n",
    "# Run the test function\n",
    "test_alpha(sort_alpha)\n"
   ]
  },
  {
   "cell_type": "code",
   "execution_count": 32,
   "id": "aa1716f6",
   "metadata": {},
   "outputs": [
    {
     "name": "stdout",
     "output_type": "stream",
     "text": [
      "All test cases passed for check_pass.\n"
     ]
    }
   ],
   "source": [
    "# Check if a Password is Strong\n",
    "def check_pass(password):\n",
    "    \"\"\"Check if the password is strong.\"\"\"\n",
    "    if len(password) < 8:\n",
    "        return False\n",
    "    has_lower = any(c.islower() for c in password)\n",
    "    has_upper = any(c.isupper() for c in password)\n",
    "    has_digit = any(c.isdigit() for c in password)\n",
    "    has_special = any(c in \"!@#$%^&*()-_=+[{]}|;:'\\\",<.>/?`~\" for c in password)\n",
    "    return has_lower and has_upper and has_digit and has_special\n",
    "\n",
    "def test_pass(check_pass):\n",
    "    \"\"\"Test the check_pass function with various cases.\"\"\"\n",
    "    assert check_pass(\"A1b!cdef\") == True, \"Test case 1 failed\"\n",
    "    assert check_pass(\"12345678\") == False, \"Test case 2 failed\"\n",
    "    assert check_pass(\"abcdefgH\") == False, \"Test case 3 failed\"\n",
    "    assert check_pass(\"Abc1!\") == False, \"Test case 4 failed\"\n",
    "    assert check_pass(\"Str0ng_P@ss\") == True, \"Test case 5 failed\"\n",
    "    print(\"All test cases passed for check_pass.\")\n",
    "\n",
    "# Run the test function\n",
    "test_pass(check_pass)\n"
   ]
  },
  {
   "cell_type": "code",
   "execution_count": null,
   "id": "8f49ef63",
   "metadata": {},
   "outputs": [],
   "source": []
  }
 ],
 "metadata": {
  "kernelspec": {
   "display_name": "Python 3 (ipykernel)",
   "language": "python",
   "name": "python3"
  },
  "language_info": {
   "codemirror_mode": {
    "name": "ipython",
    "version": 3
   },
   "file_extension": ".py",
   "mimetype": "text/x-python",
   "name": "python",
   "nbconvert_exporter": "python",
   "pygments_lexer": "ipython3",
   "version": "3.11.7"
  }
 },
 "nbformat": 4,
 "nbformat_minor": 5
}
